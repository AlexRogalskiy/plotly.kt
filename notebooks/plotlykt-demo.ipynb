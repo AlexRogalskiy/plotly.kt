{
 "cells": [
  {
   "cell_type": "code",
   "execution_count": null,
   "metadata": {
    "ExecuteTime": {
     "end_time": "2020-08-08T21:37+0300",
     "start_time": "2020-08-08T21:37+0300"
    }
   },
   "outputs": [],
   "source": [
    "%use plotly\n",
    "import kotlin.math.*"
   ]
  },
  {
   "cell_type": "code",
   "execution_count": null,
   "metadata": {
    "ExecuteTime": {
     "end_time": "2020-08-08T21:37+0300",
     "start_time": "2020-08-08T21:37+0300"
    }
   },
   "outputs": [],
   "source": [
    "val x1 = (0..100).map { it.toDouble() / 100.0 }\n",
    "val y1 = x1.map { sin(2.0 * PI * it) }\n",
    "val y2 = x1.map { cos(2.0 * PI * it) }\n",
    "\n",
    "val trace1 = Trace(x1, y1) { name = \"sin\" }\n",
    "val trace2 = Trace(x1, y2) { name = \"cos\" }\n",
    "\n",
    "val fragment = Plotly.fragment { renderer ->\n",
    "    val plotConfig = PlotlyConfig{\n",
    "        responsive = true\n",
    "        config[\"toImageButtonOptions.format\"] = \"svg\"\n",
    "    }        \n",
    "        \n",
    "    plot(\"above\", config = plotConfig, renderer = renderer) {\n",
    "        traces(trace1, trace2)\n",
    "        layout {\n",
    "            title = \"The plot above\"\n",
    "            xaxis.title = \"x axis name\"\n",
    "            yaxis.title = \"y axis name\"\n",
    "        }\n",
    "    }\n",
    "    hr()\n",
    "    h1 { +\"A custom separator\" }\n",
    "    hr()\n",
    "    div {\n",
    "        plot(renderer = renderer) {\n",
    "            traces(trace1, trace2)\n",
    "            layout {\n",
    "                title = \"The plot below\"\n",
    "                xaxis.title = \"x axis name\"\n",
    "                yaxis.title = \"y axis name\"\n",
    "            }\n",
    "        }\n",
    "    }\n",
    "}\n",
    "fragment"
   ]
  },
  {
   "cell_type": "code",
   "execution_count": null,
   "metadata": {
    "ExecuteTime": {
     "end_time": "2020-08-08T21:37+0300",
     "start_time": "2020-08-08T21:37+0300"
    }
   },
   "outputs": [],
   "source": [
    "Plotly.plot {\n",
    "    traces(trace1, trace2)\n",
    "    layout {\n",
    "        title = \"The plot below\"\n",
    "        xaxis.title = \"x axis name\"\n",
    "        yaxis.title = \"y axis name\"\n",
    "    }\n",
    "}"
   ]
  }
 ],
 "metadata": {
  "@webio": {
   "lastCommId": null,
   "lastKernelId": null
  },
  "hide_input": false,
  "kernelspec": {
   "display_name": "Kotlin",
   "language": "kotlin",
   "name": "kotlin"
  },
  "language_info": {
   "codemirror_mode": "text/x-kotlin",
   "file_extension": ".kt",
   "mimetype": "text/x-kotlin",
   "name": "kotlin",
   "pygments_lexer": "kotlin",
   "version": "1.4.20-dev-2342"
  },
  "toc": {
   "base_numbering": 1,
   "nav_menu": {},
   "number_sections": false,
   "sideBar": false,
   "skip_h1_title": false,
   "title_cell": "Table of Contents",
   "title_sidebar": "Contents",
   "toc_cell": false,
   "toc_position": {},
   "toc_section_display": false,
   "toc_window_display": false
  }
 },
 "nbformat": 4,
 "nbformat_minor": 4
}
