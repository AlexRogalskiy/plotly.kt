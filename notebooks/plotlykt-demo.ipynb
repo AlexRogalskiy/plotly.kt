{
 "cells": [
  {
   "cell_type": "code",
   "execution_count": 46,
   "metadata": {
    "ExecuteTime": {
     "end_time": "2020-07-21T11:27+0300",
     "start_time": "2020-07-21T11:27+0300"
    }
   },
   "outputs": [
    {
     "data": {
      "text/html": [
       "<script onload=\"window.promiseOfPlotly = Promise.resolve(Plotly)\" onerror=\"console.log('Failed to load Plotly from CDN')\" type=\"text/javascript\" src=\"https://cdn.plot.ly/plotly-1.54.6.min.js\"></script>\n"
      ]
     },
     "metadata": {},
     "output_type": "display_data"
    }
   ],
   "source": [
    "%use plotly\n",
    "import kotlin.math.*"
   ]
  },
  {
   "cell_type": "code",
   "execution_count": 56,
   "metadata": {
    "ExecuteTime": {
     "end_time": "2020-07-21T11:29+0300",
     "start_time": "2020-07-21T11:29+0300"
    }
   },
   "outputs": [
    {
     "name": "stdout",
     "output_type": "stream",
     "text": [
      "11:40:09.456 [DefaultDispatcher-worker-2] INFO ktor.application - No ktor.deployment.watch patterns specified, automatic reload is not active\n",
      "11:40:09.458 [DefaultDispatcher-worker-2] INFO ktor.application - Responding at http://0.0.0.0:8882\n"
     ]
    },
    {
     "data": {
      "text/html": [
       "<script type=\"text/javascript\">if(typeof window.promiseOfPlotly === 'undefined'){\n",
       "    console.log(\"Plotly loader is not defined. Loading from http://localhost:8882/js/plotly.min.js.\");\n",
       "    window.promiseOfPlotly = new Promise( (resolve, reject) => {\n",
       "        let plotlyScript = document.createElement(\"script\");\n",
       "        plotlyScript.type = \"text/javascript\";\n",
       "        plotlyScript.src = \"http://localhost:8882/js/plotly.min.js\";\n",
       "        plotlyScript.onload = function() {\n",
       "            console.log(\"Successfully loaded Plotly from http://localhost:8882/js/plotly.min.js\");\n",
       "            resolve(Plotly);\n",
       "        };\n",
       "        plotlyScript.onerror = function(event){\n",
       "            console.log(\"Failed to load Plotly from http://localhost:8882/js/plotly.min.js\")\n",
       "            reject(\"Failed to load Plotly from http://localhost:8882/js/plotly.min.js\");\n",
       "            window.promiseOfPlotly = undefined;\n",
       "        }\n",
       "        document.body.appendChild(plotlyScript);\n",
       "    });  \n",
       "}</script>\n",
       "<script type=\"text/javascript\">if(typeof window.promiseOfPlotlyPush === 'undefined'){\n",
       "    window.promiseOfPlotlyPush = new Promise( resolve => {\n",
       "        let pushScript = document.createElement(\"script\");\n",
       "        pushScript.type = \"text/javascript\";\n",
       "        pushScript.src = \"http://localhost:8882/js/plotly-push.js\";\n",
       "        pushScript.onload = function() {\n",
       "            console.log(\"Plotly push sctipts are loaded\")\n",
       "            resolve();\n",
       "        };\n",
       "        pushScript.onerror = function(event){\n",
       "            console.log(\"Failed to load Plotly-push from http://localhost:8882/js/plotly-push.js\");\n",
       "            reject(\"Failed to load Plotly-push from http://localhost:8882/js/plotly-push.js\");\n",
       "            window.promiseOfPlotlyPush = undefined;\n",
       "        }                        \n",
       "        document.body.appendChild(pushScript);\n",
       "    });\n",
       "}\n",
       "    </script>\n"
      ]
     },
     "metadata": {},
     "output_type": "display_data"
    }
   ],
   "source": [
    "Jupyter.startUpdates()"
   ]
  },
  {
   "cell_type": "code",
   "execution_count": 58,
   "metadata": {
    "ExecuteTime": {
     "end_time": "2020-07-21T11:29+0300",
     "start_time": "2020-07-21T11:29+0300"
    }
   },
   "outputs": [
    {
     "name": "stderr",
     "output_type": "stream",
     "text": [
      "Line_216.jupyter.kts (9:33 - 39) Cannot find a parameter with this name: config"
     ]
    }
   ],
   "source": [
    "val x1 = (0..100).map { it.toDouble() / 100.0 }\n",
    "val y1 = x1.map { sin(2.0 * PI * it) }\n",
    "val y2 = x1.map { cos(2.0 * PI * it) }\n",
    "\n",
    "val trace1 = Trace(x1, y1) { name = \"sin\" }\n",
    "val trace2 = Trace(x1, y2) { name = \"cos\" }\n",
    "\n",
    "val fragment = Plotly.fragment { container ->\n",
    "    plot(container = container, config = PlotlyConfig{responsive = true}) {\n",
    "        traces(trace1, trace2)\n",
    "        layout {\n",
    "            title = \"The plot above\"\n",
    "            xaxis.title = \"x axis name\"\n",
    "            yaxis.title = \"y axis name\"\n",
    "        }\n",
    "    }\n",
    "    hr()\n",
    "    h1 { +\"A custom separator\" }\n",
    "    hr()\n",
    "    div {\n",
    "        plot {\n",
    "            traces(trace1, trace2)\n",
    "            layout {\n",
    "                title = \"The plot below\"\n",
    "                xaxis.title = \"x axis name\"\n",
    "                yaxis.title = \"y axis name\"\n",
    "            }\n",
    "        }\n",
    "    }\n",
    "}\n",
    "fragment"
   ]
  },
  {
   "cell_type": "code",
   "execution_count": 49,
   "metadata": {
    "ExecuteTime": {
     "end_time": "2020-07-21T11:29+0300",
     "start_time": "2020-07-21T11:29+0300"
    }
   },
   "outputs": [
    {
     "data": {
      "text/html": [
       "<div>\n",
       "  <div id=\"scientifik.plotly.Plot@451a6626\">\n",
       "    <script>\n",
       "window.promiseOfPlotly.then( plotly =>{\n",
       "    plotly.react(\n",
       "        'scientifik.plotly.Plot@451a6626',\n",
       "        [{\"x\":[0.0,0.01,0.02,0.03,0.04,0.05,0.06,0.07,0.08,0.09,0.1,0.11,0.12,0.13,0.14,0.15,0.16,0.17,0.18,0.19,0.2,0.21,0.22,0.23,0.24,0.25,0.26,0.27,0.28,0.29,0.3,0.31,0.32,0.33,0.34,0.35,0.36,0.37,0.38,0.39,0.4,0.41,0.42,0.43,0.44,0.45,0.46,0.47,0.48,0.49,0.5,0.51,0.52,0.53,0.54,0.55,0.56,0.57,0.58,0.59,0.6,0.61,0.62,0.63,0.64,0.65,0.66,0.67,0.68,0.69,0.7,0.71,0.72,0.73,0.74,0.75,0.76,0.77,0.78,0.79,0.8,0.81,0.82,0.83,0.84,0.85,0.86,0.87,0.88,0.89,0.9,0.91,0.92,0.93,0.94,0.95,0.96,0.97,0.98,0.99,1.0],\"name\":\"sin\",\"y\":[0.0,0.06279051952931337,0.12533323356430426,0.1873813145857246,0.2486898871648548,0.3090169943749474,0.3681245526846779,0.4257792915650727,0.4817536741017153,0.5358267949789967,0.5877852522924731,0.6374239897486896,0.6845471059286886,0.7289686274214116,0.7705132427757893,0.8090169943749475,0.8443279255020151,0.8763066800438637,0.9048270524660196,0.9297764858882513,0.9510565162951535,0.9685831611286311,0.9822872507286886,0.9921147013144779,0.9980267284282716,1.0,0.9980267284282716,0.9921147013144778,0.9822872507286886,0.9685831611286312,0.9510565162951536,0.9297764858882513,0.9048270524660195,0.8763066800438635,0.844327925502015,0.8090169943749475,0.7705132427757893,0.7289686274214114,0.6845471059286888,0.6374239897486899,0.5877852522924732,0.535826794978997,0.4817536741017156,0.4257792915650729,0.36812455268467814,0.3090169943749475,0.24868988716485482,0.18738131458572502,0.12533323356430454,0.06279051952931358,1.2246467991473532E-16,-0.06279051952931335,-0.12533323356430429,-0.18738131458572477,-0.24868988716485502,-0.30901699437494773,-0.3681245526846783,-0.42577929156507227,-0.481753674101715,-0.5358267949789964,-0.587785252292473,-0.6374239897486896,-0.6845471059286887,-0.7289686274214113,-0.7705132427757894,-0.8090169943749473,-0.8443279255020153,-0.8763066800438636,-0.9048270524660198,-0.9297764858882511,-0.9510565162951535,-0.968583161128631,-0.9822872507286887,-0.9921147013144778,-0.9980267284282716,-1.0,-0.9980267284282716,-0.9921147013144779,-0.9822872507286887,-0.9685831611286311,-0.9510565162951536,-0.9297764858882512,-0.9048270524660199,-0.8763066800438638,-0.8443279255020155,-0.8090169943749476,-0.7705132427757896,-0.7289686274214116,-0.684547105928689,-0.6374239897486896,-0.5877852522924734,-0.5358267949789963,-0.4817536741017153,-0.4257792915650722,-0.3681245526846787,-0.3090169943749476,-0.24868988716485535,-0.18738131458572468,-0.12533323356430465,-0.06279051952931326,-2.4492935982947064E-16]},{\"x\":[0.0,0.01,0.02,0.03,0.04,0.05,0.06,0.07,0.08,0.09,0.1,0.11,0.12,0.13,0.14,0.15,0.16,0.17,0.18,0.19,0.2,0.21,0.22,0.23,0.24,0.25,0.26,0.27,0.28,0.29,0.3,0.31,0.32,0.33,0.34,0.35,0.36,0.37,0.38,0.39,0.4,0.41,0.42,0.43,0.44,0.45,0.46,0.47,0.48,0.49,0.5,0.51,0.52,0.53,0.54,0.55,0.56,0.57,0.58,0.59,0.6,0.61,0.62,0.63,0.64,0.65,0.66,0.67,0.68,0.69,0.7,0.71,0.72,0.73,0.74,0.75,0.76,0.77,0.78,0.79,0.8,0.81,0.82,0.83,0.84,0.85,0.86,0.87,0.88,0.89,0.9,0.91,0.92,0.93,0.94,0.95,0.96,0.97,0.98,0.99,1.0],\"name\":\"cos\",\"y\":[1.0,0.9980267284282716,0.9921147013144779,0.9822872507286887,0.9685831611286311,0.9510565162951535,0.9297764858882515,0.9048270524660195,0.8763066800438636,0.8443279255020151,0.8090169943749475,0.7705132427757893,0.7289686274214116,0.6845471059286886,0.6374239897486896,0.5877852522924731,0.5358267949789965,0.48175367410171516,0.42577929156507266,0.3681245526846781,0.30901699437494745,0.24868988716485496,0.18738131458572474,0.12533323356430426,0.06279051952931353,6.123233995736766E-17,-0.0627905195293134,-0.12533323356430437,-0.18738131458572482,-0.24868988716485463,-0.30901699437494734,-0.368124552684678,-0.4257792915650727,-0.48175367410171543,-0.5358267949789969,-0.587785252292473,-0.6374239897486897,-0.6845471059286887,-0.7289686274214113,-0.7705132427757891,-0.8090169943749473,-0.8443279255020149,-0.8763066800438634,-0.9048270524660194,-0.9297764858882513,-0.9510565162951535,-0.9685831611286311,-0.9822872507286886,-0.9921147013144778,-0.9980267284282716,-1.0,-0.9980267284282716,-0.9921147013144779,-0.9822872507286886,-0.9685831611286311,-0.9510565162951535,-0.9297764858882512,-0.9048270524660197,-0.8763066800438637,-0.8443279255020152,-0.8090169943749476,-0.7705132427757893,-0.7289686274214116,-0.684547105928689,-0.6374239897486895,-0.5877852522924732,-0.5358267949789963,-0.48175367410171527,-0.42577929156507216,-0.3681245526846786,-0.30901699437494756,-0.2486898871648553,-0.18738131458572463,-0.1253332335643046,-0.06279051952931321,-1.8369701987210297E-16,0.06279051952931283,0.12533323356430423,0.18738131458572427,0.24868988716485493,0.30901699437494723,0.36812455268467825,0.4257792915650718,0.48175367410171493,0.535826794978996,0.5877852522924729,0.6374239897486893,0.6845471059286886,0.7289686274214112,0.7705132427757894,0.8090169943749473,0.8443279255020153,0.8763066800438636,0.9048270524660197,0.9297764858882511,0.9510565162951535,0.968583161128631,0.9822872507286887,0.9921147013144778,0.9980267284282716,1.0]}],\n",
       "        {\"xaxis\":{\"title\":\"x axis name\"},\"title\":{\"text\":\"The plot below\"},\"yaxis\":{\"title\":\"y axis name\"}},\n",
       "        {\"responsive\":true}\n",
       "    );\n",
       "});\n",
       "</script>\n",
       "    <script id=\"scientifik.plotly.Plot@451a6626-push\">\n",
       "    startPush('scientifik.plotly.Plot@451a6626', 'ws://localhost:8882/ws/scientifik.plotly.Plot@451a6626');\n",
       "</script>\n",
       "  </div>\n",
       "</div>\n"
      ]
     },
     "execution_count": 49,
     "metadata": {},
     "output_type": "execute_result"
    }
   ],
   "source": [
    "Plotly.plot {\n",
    "    traces(trace1, trace2)\n",
    "    layout {\n",
    "        title = \"The plot below\"\n",
    "        xaxis.title = \"x axis name\"\n",
    "        yaxis.title = \"y axis name\"\n",
    "    }\n",
    "}"
   ]
  },
  {
   "cell_type": "code",
   "execution_count": 50,
   "metadata": {
    "ExecuteTime": {
     "end_time": "2020-07-21T11:30+0300",
     "start_time": "2020-07-21T11:30+0300"
    }
   },
   "outputs": [
    {
     "data": {
      "text/html": [
       "<div>\n",
       "  <div id=\"scientifik.plotly.Plot@19cff74\">\n",
       "    <script>\n",
       "window.promiseOfPlotly.then( plotly =>{\n",
       "    plotly.react(\n",
       "        'scientifik.plotly.Plot@19cff74',\n",
       "        [{\"x\":[0.0,0.01,0.02,0.03,0.04,0.05,0.06,0.07,0.08,0.09,0.1,0.11,0.12,0.13,0.14,0.15,0.16,0.17,0.18,0.19,0.2,0.21,0.22,0.23,0.24,0.25,0.26,0.27,0.28,0.29,0.3,0.31,0.32,0.33,0.34,0.35,0.36,0.37,0.38,0.39,0.4,0.41,0.42,0.43,0.44,0.45,0.46,0.47,0.48,0.49,0.5,0.51,0.52,0.53,0.54,0.55,0.56,0.57,0.58,0.59,0.6,0.61,0.62,0.63,0.64,0.65,0.66,0.67,0.68,0.69,0.7,0.71,0.72,0.73,0.74,0.75,0.76,0.77,0.78,0.79,0.8,0.81,0.82,0.83,0.84,0.85,0.86,0.87,0.88,0.89,0.9,0.91,0.92,0.93,0.94,0.95,0.96,0.97,0.98,0.99,1.0],\"name\":\"sin\",\"y\":[0.0,0.06279051952931337,0.12533323356430426,0.1873813145857246,0.2486898871648548,0.3090169943749474,0.3681245526846779,0.4257792915650727,0.4817536741017153,0.5358267949789967,0.5877852522924731,0.6374239897486896,0.6845471059286886,0.7289686274214116,0.7705132427757893,0.8090169943749475,0.8443279255020151,0.8763066800438637,0.9048270524660196,0.9297764858882513,0.9510565162951535,0.9685831611286311,0.9822872507286886,0.9921147013144779,0.9980267284282716,1.0,0.9980267284282716,0.9921147013144778,0.9822872507286886,0.9685831611286312,0.9510565162951536,0.9297764858882513,0.9048270524660195,0.8763066800438635,0.844327925502015,0.8090169943749475,0.7705132427757893,0.7289686274214114,0.6845471059286888,0.6374239897486899,0.5877852522924732,0.535826794978997,0.4817536741017156,0.4257792915650729,0.36812455268467814,0.3090169943749475,0.24868988716485482,0.18738131458572502,0.12533323356430454,0.06279051952931358,1.2246467991473532E-16,-0.06279051952931335,-0.12533323356430429,-0.18738131458572477,-0.24868988716485502,-0.30901699437494773,-0.3681245526846783,-0.42577929156507227,-0.481753674101715,-0.5358267949789964,-0.587785252292473,-0.6374239897486896,-0.6845471059286887,-0.7289686274214113,-0.7705132427757894,-0.8090169943749473,-0.8443279255020153,-0.8763066800438636,-0.9048270524660198,-0.9297764858882511,-0.9510565162951535,-0.968583161128631,-0.9822872507286887,-0.9921147013144778,-0.9980267284282716,-1.0,-0.9980267284282716,-0.9921147013144779,-0.9822872507286887,-0.9685831611286311,-0.9510565162951536,-0.9297764858882512,-0.9048270524660199,-0.8763066800438638,-0.8443279255020155,-0.8090169943749476,-0.7705132427757896,-0.7289686274214116,-0.684547105928689,-0.6374239897486896,-0.5877852522924734,-0.5358267949789963,-0.4817536741017153,-0.4257792915650722,-0.3681245526846787,-0.3090169943749476,-0.24868988716485535,-0.18738131458572468,-0.12533323356430465,-0.06279051952931326,-2.4492935982947064E-16]}],\n",
       "        {\"xaxis\":{\"title\":\"x axis name\"},\"title\":{\"text\":\"Dynamic plot\"},\"yaxis\":{\"title\":\"y axis name\"}},\n",
       "        {\"responsive\":true}\n",
       "    );\n",
       "});\n",
       "</script>\n",
       "    <script id=\"scientifik.plotly.Plot@19cff74-push\">\n",
       "    startPush('scientifik.plotly.Plot@19cff74', 'ws://localhost:8882/ws/scientifik.plotly.Plot@19cff74');\n",
       "</script>\n",
       "  </div>\n",
       "</div>\n"
      ]
     },
     "execution_count": 50,
     "metadata": {},
     "output_type": "execute_result"
    }
   ],
   "source": [
    "val x = (0..100).map { it.toDouble() / 100.0 }\n",
    "val y = x.map { sin(2.0 * PI * it) }\n",
    "\n",
    "val trace = Trace(x, y) { name = \"sin\" }\n",
    "\n",
    "\n",
    "val dynamicPlot = Plotly.plot {\n",
    "    traces(trace)\n",
    "    layout {\n",
    "        title = \"Dynamic plot\"\n",
    "        xaxis.title = \"x axis name\"\n",
    "        yaxis.title = \"y axis name\"\n",
    "    }\n",
    "}\n",
    "\n",
    "dynamicPlot"
   ]
  },
  {
   "cell_type": "code",
   "execution_count": 51,
   "metadata": {
    "ExecuteTime": {
     "end_time": "2020-07-21T11:27+0300",
     "start_time": "2020-07-21T11:27+0300"
    }
   },
   "outputs": [],
   "source": [
    "import kotlinx.coroutines.*\n",
    "\n",
    "val job = GlobalScope.launch {\n",
    "    var time: Long = 0\n",
    "    while (isActive) {\n",
    "        delay(10)\n",
    "        time += 10\n",
    "        val dynamicY = x.map { sin(2.0 * PI * (it + time.toDouble() / 1000.0)) }\n",
    "        trace.y.set(dynamicY)\n",
    "    }\n",
    "}"
   ]
  },
  {
   "cell_type": "code",
   "execution_count": 52,
   "metadata": {
    "ExecuteTime": {
     "end_time": "2020-07-21T11:27+0300",
     "start_time": "2020-07-21T11:27+0300"
    }
   },
   "outputs": [],
   "source": [
    "job.cancel()"
   ]
  },
  {
   "cell_type": "code",
   "execution_count": 53,
   "metadata": {
    "ExecuteTime": {
     "end_time": "2020-07-21T11:27+0300",
     "start_time": "2020-07-21T11:27+0300"
    }
   },
   "outputs": [],
   "source": [
    "dynamicPlot.layout.xaxis.title = \"крокозябра\""
   ]
  },
  {
   "cell_type": "code",
   "execution_count": 54,
   "metadata": {
    "ExecuteTime": {
     "end_time": "2020-07-19T11:13+0300",
     "start_time": "2020-07-19T11:13+0300"
    }
   },
   "outputs": [
    {
     "name": "stdout",
     "output_type": "stream",
     "text": [
      "11:32:36.265 [DefaultDispatcher-worker-9] DEBUG ktor.application - Closed server socket for scientifik.plotly.Plot@31dc6210\n",
      "11:32:36.268 [pool-2-thread-5] INFO ktor.application - 101 Switching Protocols: GET - /ws/scientifik.plotly.Plot@5aa54b13, cancelled\n",
      "11:32:36.266 [DefaultDispatcher-worker-5] DEBUG ktor.application - Closed server socket for scientifik.plotly.Plot@b138169\n",
      "11:32:36.266 [pool-2-thread-1] INFO ktor.application - 101 Switching Protocols: GET - /ws/scientifik.plotly.Plot@31dc6210, cancelled\n",
      "11:32:36.267 [pool-2-thread-2] INFO ktor.application - 101 Switching Protocols: GET - /ws/scientifik.plotly.Plot@b138169, cancelled\n",
      "11:32:36.267 [DefaultDispatcher-worker-6] DEBUG ktor.application - Closed server socket for scientifik.plotly.Plot@6abd6a12\n",
      "11:32:36.267 [pool-2-thread-3] INFO ktor.application - 101 Switching Protocols: GET - /ws/scientifik.plotly.Plot@6abd6a12, cancelled\n",
      "11:32:36.267 [DefaultDispatcher-worker-4] DEBUG ktor.application - Closed server socket for scientifik.plotly.Plot@7e9bb983\n",
      "11:32:36.267 [pool-2-thread-4] INFO ktor.application - 101 Switching Protocols: GET - /ws/scientifik.plotly.Plot@7e9bb983, cancelled\n",
      "11:32:36.267 [DefaultDispatcher-worker-12] DEBUG ktor.application - Closed server socket for scientifik.plotly.Plot@5aa54b13\n",
      "11:32:36.269 [DefaultDispatcher-worker-2] ERROR io.ktor.server.cio.HttpServer - Unhandled exception caught for CoroutineName(http-pipeline-writer)\n",
      "kotlinx.coroutines.CoroutinesInternalError: Fatal exception in coroutines machinery for DispatchedContinuation[ExperimentalCoroutineDispatcher@1481ea71[scheduler = DefaultDispatcher@72f855a6[Pool Size {core = 14, max = 1536}, Worker States {CPU = 8, blocking = 0, parked = 6, dormant = 0, terminated = 0}, running workers queues = [0c, 0c, 0c, 0c, 0c, 0c, 0c, 0c], global CPU queue size = 0, global blocking queue size = 0, Control State {created workers= 14, blocking tasks = 0, CPUs acquired = 7}]], Continuation at io.ktor.server.cio.backend.ServerPipelineKt$startServerConnectionPipeline$1$outputsActor$1.invokeSuspend(ServerPipeline.kt:49)@6ce27133]. Please read KDoc to 'handleFatalException' method and report this incident to maintainers\n",
      "\tat kotlinx.coroutines.DispatchedTask.handleFatalException$kotlinx_coroutines_core(DispatchedTask.kt:93)\n",
      "\tat kotlinx.coroutines.DispatchedTask.run(DispatchedTask.kt:64)\n",
      "\tat kotlinx.coroutines.scheduling.CoroutineScheduler.runSafely(CoroutineScheduler.kt:571)\n",
      "\tat kotlinx.coroutines.scheduling.CoroutineScheduler$Worker.executeTask(CoroutineScheduler.kt:738)\n",
      "\tat kotlinx.coroutines.scheduling.CoroutineScheduler$Worker.runWorker(CoroutineScheduler.kt:678)\n",
      "\tat kotlinx.coroutines.scheduling.CoroutineScheduler$Worker.run(CoroutineScheduler.kt:665)\n",
      "Caused by: java.lang.ClassCastException: class kotlin.coroutines.jvm.internal.CompletedContinuation cannot be cast to class kotlinx.coroutines.DispatchedContinuation (kotlin.coroutines.jvm.internal.CompletedContinuation is in unnamed module of loader 'app'; kotlinx.coroutines.DispatchedContinuation is in unnamed module of loader java.net.URLClassLoader @88151e7)\n",
      "\tat kotlinx.coroutines.CoroutineDispatcher.releaseInterceptedContinuation(CoroutineDispatcher.kt:103)\n",
      "\tat kotlin.coroutines.jvm.internal.ContinuationImpl.releaseIntercepted(ContinuationImpl.kt:118)\n",
      "\tat kotlin.coroutines.jvm.internal.BaseContinuationImpl.resumeWith(ContinuationImpl.kt:39)\n",
      "\tat kotlinx.coroutines.DispatchedTask.run(DispatchedTask.kt:55)\n",
      "\t... 4 common frames omitted\n",
      "11:32:36.269 [DefaultDispatcher-worker-1] DEBUG ktor.application - Closed server socket for scientifik.plotly.Plot@7e9bb983\n",
      "11:32:36.271 [DefaultDispatcher-worker-11] ERROR io.ktor.server.cio.HttpServer - Unhandled exception caught for CoroutineName(http-pipeline-writer)\n",
      "kotlinx.coroutines.CoroutinesInternalError: Fatal exception in coroutines machinery for DispatchedContinuation[ExperimentalCoroutineDispatcher@1481ea71[scheduler = DefaultDispatcher@72f855a6[Pool Size {core = 14, max = 1536}, Worker States {CPU = 8, blocking = 0, parked = 6, dormant = 0, terminated = 0}, running workers queues = [0c, 0c, 0c, 0c, 0c, 0c, 0c, 0c], global CPU queue size = 6, global blocking queue size = 0, Control State {created workers= 14, blocking tasks = 0, CPUs acquired = 8}]], Continuation at io.ktor.server.cio.backend.ServerPipelineKt$startServerConnectionPipeline$1$outputsActor$1.invokeSuspend(ServerPipeline.kt:49)@3c187dc5]. Please read KDoc to 'handleFatalException' method and report this incident to maintainers\n",
      "\tat kotlinx.coroutines.DispatchedTask.handleFatalException$kotlinx_coroutines_core(DispatchedTask.kt:93)\n",
      "\tat kotlinx.coroutines.DispatchedTask.run(DispatchedTask.kt:64)\n",
      "\tat kotlinx.coroutines.scheduling.CoroutineScheduler.runSafely(CoroutineScheduler.kt:571)\n",
      "\tat kotlinx.coroutines.scheduling.CoroutineScheduler$Worker.executeTask(CoroutineScheduler.kt:738)\n",
      "\tat kotlinx.coroutines.scheduling.CoroutineScheduler$Worker.runWorker(CoroutineScheduler.kt:678)\n",
      "\tat kotlinx.coroutines.scheduling.CoroutineScheduler$Worker.run(CoroutineScheduler.kt:665)\n",
      "Caused by: java.lang.ClassCastException: class kotlin.coroutines.jvm.internal.CompletedContinuation cannot be cast to class kotlinx.coroutines.DispatchedContinuation (kotlin.coroutines.jvm.internal.CompletedContinuation is in unnamed module of loader 'app'; kotlinx.coroutines.DispatchedContinuation is in unnamed module of loader java.net.URLClassLoader @88151e7)\n",
      "\tat kotlinx.coroutines.CoroutineDispatcher.releaseInterceptedContinuation(CoroutineDispatcher.kt:103)\n",
      "\tat kotlin.coroutines.jvm.internal.ContinuationImpl.releaseIntercepted(ContinuationImpl.kt:118)\n",
      "\tat kotlin.coroutines.jvm.internal.BaseContinuationImpl.resumeWith(ContinuationImpl.kt:39)\n",
      "\tat kotlinx.coroutines.DispatchedTask.run(DispatchedTask.kt:55)\n",
      "\t... 4 common frames omitted\n",
      "11:32:36.273 [DefaultDispatcher-worker-14] DEBUG ktor.application - Closed server socket for scientifik.plotly.Plot@5aa54b13\n",
      "11:32:36.273 [pool-2-thread-8] INFO ktor.application - 101 Switching Protocols: GET - /ws/scientifik.plotly.Plot@451a6626, cancelled\n",
      "11:32:36.275 [DefaultDispatcher-worker-10] ERROR io.ktor.server.cio.HttpServer - Unhandled exception caught for CoroutineName(http-pipeline-writer)\n",
      "kotlinx.coroutines.CoroutinesInternalError: Fatal exception in coroutines machinery for DispatchedContinuation[ExperimentalCoroutineDispatcher@1481ea71[scheduler = DefaultDispatcher@72f855a6[Pool Size {core = 14, max = 1536}, Worker States {CPU = 10, blocking = 0, parked = 4, dormant = 0, terminated = 0}, running workers queues = [0c, 0c, 0c, 0c, 0c, 0c, 0c, 0c, 0c, 0c], global CPU queue size = 15, global blocking queue size = 0, Control State {created workers= 14, blocking tasks = 0, CPUs acquired = 10}]], Continuation at io.ktor.server.cio.backend.ServerPipelineKt$startServerConnectionPipeline$1$outputsActor$1.invokeSuspend(ServerPipeline.kt:49)@3ff597ad]. Please read KDoc to 'handleFatalException' method and report this incident to maintainers\n",
      "\tat kotlinx.coroutines.DispatchedTask.handleFatalException$kotlinx_coroutines_core(DispatchedTask.kt:93)\n",
      "\tat kotlinx.coroutines.DispatchedTask.run(DispatchedTask.kt:64)\n",
      "\tat kotlinx.coroutines.scheduling.CoroutineScheduler.runSafely(CoroutineScheduler.kt:571)\n",
      "\tat kotlinx.coroutines.scheduling.CoroutineScheduler$Worker.executeTask(CoroutineScheduler.kt:738)\n",
      "\tat kotlinx.coroutines.scheduling.CoroutineScheduler$Worker.runWorker(CoroutineScheduler.kt:678)\n",
      "\tat kotlinx.coroutines.scheduling.CoroutineScheduler$Worker.run(CoroutineScheduler.kt:665)\n",
      "Caused by: java.lang.ClassCastException: class kotlin.coroutines.jvm.internal.CompletedContinuation cannot be cast to class kotlinx.coroutines.DispatchedContinuation (kotlin.coroutines.jvm.internal.CompletedContinuation is in unnamed module of loader 'app'; kotlinx.coroutines.DispatchedContinuation is in unnamed module of loader java.net.URLClassLoader @88151e7)\n",
      "\tat kotlinx.coroutines.CoroutineDispatcher.releaseInterceptedContinuation(CoroutineDispatcher.kt:103)\n",
      "\tat kotlin.coroutines.jvm.internal.ContinuationImpl.releaseIntercepted(ContinuationImpl.kt:118)\n",
      "\tat kotlin.coroutines.jvm.internal.BaseContinuationImpl.resumeWith(ContinuationImpl.kt:39)\n",
      "\tat kotlinx.coroutines.DispatchedTask.run(DispatchedTask.kt:55)\n",
      "\t... 4 common frames omitted\n",
      "11:32:36.275 [pool-2-thread-6] INFO ktor.application - 101 Switching Protocols: GET - /ws/scientifik.plotly.Plot@7e9bb983, cancelled\n",
      "11:32:36.276 [DefaultDispatcher-worker-8] ERROR io.ktor.server.cio.HttpServer - Unhandled exception caught for CoroutineName(http-pipeline-writer)\n",
      "kotlinx.coroutines.CoroutinesInternalError: Fatal exception in coroutines machinery for DispatchedContinuation[ExperimentalCoroutineDispatcher@1481ea71[scheduler = DefaultDispatcher@72f855a6[Pool Size {core = 14, max = 1536}, Worker States {CPU = 13, blocking = 0, parked = 1, dormant = 0, terminated = 0}, running workers queues = [0c, 0c, 0c, 0c, 0c, 0c, 0c, 0c, 0c, 0c, 0c, 0c, 0c], global CPU queue size = 2, global blocking queue size = 0, Control State {created workers= 14, blocking tasks = 0, CPUs acquired = 13}]], Continuation at io.ktor.server.cio.backend.ServerPipelineKt$startServerConnectionPipeline$1$outputsActor$1.invokeSuspend(ServerPipeline.kt:49)@4a601322]. Please read KDoc to 'handleFatalException' method and report this incident to maintainers\n",
      "\tat kotlinx.coroutines.DispatchedTask.handleFatalException$kotlinx_coroutines_core(DispatchedTask.kt:93)\n",
      "\tat kotlinx.coroutines.DispatchedTask.run(DispatchedTask.kt:64)\n",
      "\tat kotlinx.coroutines.scheduling.CoroutineScheduler.runSafely(CoroutineScheduler.kt:571)\n",
      "\tat kotlinx.coroutines.scheduling.CoroutineScheduler$Worker.executeTask(CoroutineScheduler.kt:738)\n",
      "\tat kotlinx.coroutines.scheduling.CoroutineScheduler$Worker.runWorker(CoroutineScheduler.kt:678)\n",
      "\tat kotlinx.coroutines.scheduling.CoroutineScheduler$Worker.run(CoroutineScheduler.kt:665)\n",
      "Caused by: java.lang.ClassCastException: class kotlin.coroutines.jvm.internal.CompletedContinuation cannot be cast to class kotlinx.coroutines.DispatchedContinuation (kotlin.coroutines.jvm.internal.CompletedContinuation is in unnamed module of loader 'app'; kotlinx.coroutines.DispatchedContinuation is in unnamed module of loader java.net.URLClassLoader @88151e7)\n",
      "\tat kotlinx.coroutines.CoroutineDispatcher.releaseInterceptedContinuation(CoroutineDispatcher.kt:103)\n",
      "\tat kotlin.coroutines.jvm.internal.ContinuationImpl.releaseIntercepted(ContinuationImpl.kt:118)\n",
      "\tat kotlin.coroutines.jvm.internal.BaseContinuationImpl.resumeWith(ContinuationImpl.kt:39)\n",
      "\tat kotlinx.coroutines.DispatchedTask.run(DispatchedTask.kt:55)\n",
      "\t... 4 common frames omitted\n",
      "11:32:36.276 [pool-2-thread-7] INFO ktor.application - 101 Switching Protocols: GET - /ws/scientifik.plotly.Plot@5aa54b13, cancelled\n",
      "11:32:36.277 [pool-2-thread-9] INFO ktor.application - 101 Switching Protocols: GET - /ws/scientifik.plotly.Plot@19cff74, cancelled\n",
      "11:32:36.277 [DefaultDispatcher-worker-13] DEBUG ktor.application - Closed server socket for scientifik.plotly.Plot@19cff74\n",
      "11:32:36.277 [DefaultDispatcher-worker-7] DEBUG ktor.application - Closed server socket for scientifik.plotly.Plot@451a6626\n"
     ]
    },
    {
     "data": {
      "text/html": [
       "<script>window.promiseOfPlotly = undefined\n",
       "window.promiseOfPlotlyPush = undefined</script>\n",
       "<div>Update server is stopped script headers are reset</div>\n"
      ]
     },
     "metadata": {},
     "output_type": "display_data"
    }
   ],
   "source": [
    "Jupyter.stopUpdates()"
   ]
  },
  {
   "cell_type": "code",
   "execution_count": null,
   "metadata": {},
   "outputs": [],
   "source": []
  },
  {
   "cell_type": "code",
   "execution_count": null,
   "metadata": {},
   "outputs": [],
   "source": []
  }
 ],
 "metadata": {
  "@webio": {
   "lastCommId": null,
   "lastKernelId": null
  },
  "hide_input": false,
  "kernelspec": {
   "display_name": "Kotlin",
   "language": "kotlin",
   "name": "kotlin"
  },
  "language_info": {
   "codemirror_mode": "text/x-kotlin",
   "file_extension": ".kt",
   "mimetype": "text/x-kotlin",
   "name": "kotlin",
   "pygments_lexer": "kotlin",
   "version": "1.4.20-dev-2342"
  },
  "toc": {
   "base_numbering": 1,
   "nav_menu": {},
   "number_sections": false,
   "sideBar": false,
   "skip_h1_title": false,
   "title_cell": "Table of Contents",
   "title_sidebar": "Contents",
   "toc_cell": false,
   "toc_position": {},
   "toc_section_display": false,
   "toc_window_display": false
  }
 },
 "nbformat": 4,
 "nbformat_minor": 4
}
